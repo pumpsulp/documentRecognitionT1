{
 "cells": [
  {
   "cell_type": "code",
   "execution_count": null,
   "id": "initial_id",
   "metadata": {
    "collapsed": true
   },
   "outputs": [],
   "source": "import cv2"
  },
  {
   "metadata": {},
   "cell_type": "markdown",
   "source": "Обработка данных",
   "id": "4f2fd2a04fe0c355"
  },
  {
   "metadata": {},
   "cell_type": "code",
   "outputs": [],
   "execution_count": null,
   "source": "",
   "id": "9e34e41d300144eb"
  },
  {
   "metadata": {},
   "cell_type": "markdown",
   "source": "Детекция текста",
   "id": "e673502df7ed9a8c"
  },
  {
   "metadata": {},
   "cell_type": "code",
   "outputs": [],
   "execution_count": null,
   "source": "",
   "id": "5db597cc9dddad23"
  },
  {
   "metadata": {},
   "cell_type": "markdown",
   "source": "OCR слой",
   "id": "b6618c44a61bf6aa"
  },
  {
   "metadata": {},
   "cell_type": "code",
   "outputs": [],
   "execution_count": null,
   "source": "",
   "id": "2e87aff5659b51b"
  },
  {
   "metadata": {},
   "cell_type": "markdown",
   "source": "Слой распознавания контекста",
   "id": "db4c474325233729"
  },
  {
   "metadata": {},
   "cell_type": "code",
   "outputs": [],
   "execution_count": null,
   "source": "",
   "id": "b0ca1d6ebd4ad37f"
  },
  {
   "metadata": {},
   "cell_type": "markdown",
   "source": "Выходной слой",
   "id": "1569068c57db69fd"
  },
  {
   "metadata": {},
   "cell_type": "code",
   "outputs": [],
   "execution_count": null,
   "source": "",
   "id": "654b9f6d9ac8a220"
  }
 ],
 "metadata": {
  "kernelspec": {
   "display_name": "Python 3",
   "language": "python",
   "name": "python3"
  },
  "language_info": {
   "codemirror_mode": {
    "name": "ipython",
    "version": 2
   },
   "file_extension": ".py",
   "mimetype": "text/x-python",
   "name": "python",
   "nbconvert_exporter": "python",
   "pygments_lexer": "ipython2",
   "version": "2.7.6"
  }
 },
 "nbformat": 4,
 "nbformat_minor": 5
}
