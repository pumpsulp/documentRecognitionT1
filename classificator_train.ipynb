{
  "nbformat": 4,
  "nbformat_minor": 0,
  "metadata": {
    "colab": {
      "provenance": [],
      "collapsed_sections": [
        "iMBxzu1dGqKs"
      ]
    },
    "kernelspec": {
      "name": "python3",
      "display_name": "Python 3"
    },
    "language_info": {
      "name": "python"
    }
  },
  "cells": [
    {
      "cell_type": "markdown",
      "source": [
        "#Импорты"
      ],
      "metadata": {
        "id": "iMBxzu1dGqKs"
      }
    },
    {
      "cell_type": "code",
      "execution_count": 2,
      "metadata": {
        "id": "4aF0VZ9twrv3"
      },
      "outputs": [],
      "source": [
        "import os\n",
        "import numpy as np\n",
        "import tensorflow as tf\n",
        "from tensorflow.keras.preprocessing.image import ImageDataGenerator\n",
        "from tensorflow.keras.models import Sequential\n",
        "from tensorflow.keras.layers import Conv2D, MaxPooling2D, Flatten, Dense, Dropout, BatchNormalization, GlobalAveragePooling2D, Activation\n",
        "import zipfile\n",
        "import os"
      ]
    },
    {
      "cell_type": "code",
      "source": [
        "!python --version"
      ],
      "metadata": {
        "id": "dUZPcCbFONT4",
        "outputId": "d7b1110d-5961-4332-8020-f8d76297e3ec",
        "colab": {
          "base_uri": "https://localhost:8080/"
        }
      },
      "execution_count": 3,
      "outputs": [
        {
          "output_type": "stream",
          "name": "stdout",
          "text": [
            "Python 3.10.12\n"
          ]
        }
      ]
    },
    {
      "cell_type": "markdown",
      "source": [
        "# Скачивание и генерация данных"
      ],
      "metadata": {
        "id": "m4kZUv9vGuEJ"
      }
    },
    {
      "cell_type": "code",
      "source": [
        "zip_file_path = '/content/handwritten.zip'\n",
        "output_folder = '/content/data'\n",
        "\n",
        "os.makedirs(output_folder, exist_ok=True)\n",
        "\n",
        "with zipfile.ZipFile(zip_file_path, 'r') as zip_ref:\n",
        "    zip_ref.extractall(output_folder)\n",
        "\n",
        "print(f'Файлы успешно распакованы в папку: {output_folder}')"
      ],
      "metadata": {
        "id": "FDDEwQkp4laV",
        "colab": {
          "base_uri": "https://localhost:8080/"
        },
        "outputId": "1e878cb9-ee16-488f-9547-f8556bae9cdb"
      },
      "execution_count": null,
      "outputs": [
        {
          "output_type": "stream",
          "name": "stdout",
          "text": [
            "Файлы успешно распакованы в папку: /content/data\n"
          ]
        }
      ]
    },
    {
      "cell_type": "code",
      "source": [
        "from PIL import Image, ImageDraw, ImageFont\n",
        "import matplotlib.pyplot as plt\n",
        "import random\n",
        "\n",
        "# Путь к файлу шрифта\n",
        "font_path = '/content/ocr-b.ttf'\n",
        "font_size = 24\n",
        "\n",
        "output_folder = '/content/data/printed'\n",
        "os.makedirs(output_folder, exist_ok=True)\n",
        "\n",
        "font = ImageFont.truetype(font_path, font_size)\n",
        "\n",
        "with open('/content/words.txt', 'r', encoding='utf-8') as file:\n",
        "    words = file.readlines()\n",
        "\n",
        "# Функция для добавления шума\n",
        "def add_noise(image):\n",
        "    img_array = np.array(image)\n",
        "    noise = np.random.normal(0, 25, img_array.shape)\n",
        "    noisy_image = img_array + noise\n",
        "\n",
        "    noisy_image = np.clip(noisy_image, 0, 255).astype(np.uint8)\n",
        "\n",
        "    return Image.fromarray(noisy_image)\n",
        "\n",
        "for word in words:\n",
        "    word = word.strip()\n",
        "    if word:\n",
        "        image = Image.new('RGB', (100, 50), (255, 182, 193))\n",
        "        draw = ImageDraw.Draw(image)\n",
        "        draw.text((10, 10), word, font=font, fill=(0, 0, 0))\n",
        "\n",
        "        rnd = random.randint(0, 5)\n",
        "        if rnd < 3:\n",
        "            rotated_image = image.rotate(180)\n",
        "        else:\n",
        "            rotated_image = image\n",
        "\n",
        "        noisy_image = add_noise(rotated_image)\n",
        "        output_path = os.path.join(output_folder, f\"{word}.png\")\n",
        "        noisy_image.save(output_path)\n",
        "\n",
        "print(\"Изображения успешно созданы и сохранены в папку:\", output_folder)"
      ],
      "metadata": {
        "colab": {
          "base_uri": "https://localhost:8080/"
        },
        "id": "a-vSj6JHTVSW",
        "outputId": "cb2045a8-9ddd-4c0d-db3c-3da80b5b6cd2"
      },
      "execution_count": null,
      "outputs": [
        {
          "output_type": "stream",
          "name": "stdout",
          "text": [
            "Изображения успешно созданы и сохранены в папку: /content/data/printed\n"
          ]
        }
      ]
    },
    {
      "cell_type": "code",
      "source": [],
      "metadata": {
        "id": "s0O0BleOKjqW"
      },
      "execution_count": null,
      "outputs": []
    },
    {
      "cell_type": "markdown",
      "source": [
        "# Train датасет"
      ],
      "metadata": {
        "id": "ETA7qPyLG0Wc"
      }
    },
    {
      "cell_type": "code",
      "source": [
        "train_datagen = ImageDataGenerator(rescale=1./255, validation_split=0.2)\n",
        "\n",
        "train_generator = train_datagen.flow_from_directory(\n",
        "    '/content/data',\n",
        "    target_size=(150, 150),\n",
        "    batch_size=50,\n",
        "    class_mode='binary',\n",
        "    subset='training'\n",
        ")\n",
        "\n",
        "validation_generator = train_datagen.flow_from_directory(\n",
        "    '/content/data',\n",
        "    target_size=(150, 150),\n",
        "    batch_size=50,\n",
        "    class_mode='binary',\n",
        "    subset='validation'\n",
        ")"
      ],
      "metadata": {
        "colab": {
          "base_uri": "https://localhost:8080/"
        },
        "id": "YktpY4IMwwdM",
        "outputId": "ffa73c94-aaf2-4da8-a0cd-9fd4bca078a9"
      },
      "execution_count": null,
      "outputs": [
        {
          "output_type": "stream",
          "name": "stdout",
          "text": [
            "Found 2540 images belonging to 2 classes.\n",
            "Found 635 images belonging to 2 classes.\n"
          ]
        }
      ]
    },
    {
      "cell_type": "markdown",
      "source": [
        "# Модель"
      ],
      "metadata": {
        "id": "4vqjSGWWG4lC"
      }
    },
    {
      "cell_type": "code",
      "source": [
        "model = Sequential([\n",
        "    Conv2D(32, (3, 3), padding='same', input_shape=(150, 150, 3)),\n",
        "    BatchNormalization(),\n",
        "    Activation('relu'),\n",
        "    MaxPooling2D(pool_size=(2, 2)),\n",
        "\n",
        "    Conv2D(64, (3, 3), padding='same'),\n",
        "    BatchNormalization(),\n",
        "    Activation('relu'),\n",
        "    MaxPooling2D(pool_size=(2, 2)),\n",
        "\n",
        "    Conv2D(128, (3, 3), padding='same'),\n",
        "    BatchNormalization(),\n",
        "    Activation('relu'),\n",
        "    MaxPooling2D(pool_size=(2, 2)),\n",
        "\n",
        "    Conv2D(256, (3, 3), padding='same'),\n",
        "    BatchNormalization(),\n",
        "    Activation('relu'),\n",
        "    MaxPooling2D(pool_size=(2, 2)),\n",
        "\n",
        "    GlobalAveragePooling2D(),\n",
        "    Dense(512, activation='relu'),\n",
        "    Dropout(0.5),\n",
        "    Dense(1, activation='sigmoid')\n",
        "])"
      ],
      "metadata": {
        "id": "TymzypoKw3sp"
      },
      "execution_count": null,
      "outputs": []
    },
    {
      "cell_type": "code",
      "source": [
        "model.compile(optimizer='adam',\n",
        "              loss='binary_crossentropy',\n",
        "              metrics=['accuracy'])"
      ],
      "metadata": {
        "id": "v5Pz9liAw552"
      },
      "execution_count": null,
      "outputs": []
    },
    {
      "cell_type": "code",
      "source": [
        "model.fit(train_generator,\n",
        "          validation_data=validation_generator,\n",
        "          epochs=10)"
      ],
      "metadata": {
        "colab": {
          "base_uri": "https://localhost:8080/"
        },
        "id": "0xm1bbKk-g6H",
        "outputId": "877fd063-f6dd-441b-9f59-45fb676efcd6"
      },
      "execution_count": null,
      "outputs": [
        {
          "output_type": "stream",
          "name": "stdout",
          "text": [
            "Epoch 1/5\n",
            "\u001b[1m51/51\u001b[0m \u001b[32m━━━━━━━━━━━━━━━━━━━━\u001b[0m\u001b[37m\u001b[0m \u001b[1m16s\u001b[0m 182ms/step - accuracy: 0.9302 - loss: 0.1511 - val_accuracy: 0.9323 - val_loss: 0.3432\n",
            "Epoch 2/5\n",
            "\u001b[1m51/51\u001b[0m \u001b[32m━━━━━━━━━━━━━━━━━━━━\u001b[0m\u001b[37m\u001b[0m \u001b[1m4s\u001b[0m 67ms/step - accuracy: 0.9963 - loss: 0.0190 - val_accuracy: 0.8488 - val_loss: 0.3031\n",
            "Epoch 3/5\n",
            "\u001b[1m51/51\u001b[0m \u001b[32m━━━━━━━━━━━━━━━━━━━━\u001b[0m\u001b[37m\u001b[0m \u001b[1m5s\u001b[0m 85ms/step - accuracy: 0.9877 - loss: 0.0351 - val_accuracy: 0.9323 - val_loss: 0.2557\n",
            "Epoch 4/5\n",
            "\u001b[1m51/51\u001b[0m \u001b[32m━━━━━━━━━━━━━━━━━━━━\u001b[0m\u001b[37m\u001b[0m \u001b[1m6s\u001b[0m 96ms/step - accuracy: 0.9947 - loss: 0.0142 - val_accuracy: 0.8457 - val_loss: 0.2933\n",
            "Epoch 5/5\n",
            "\u001b[1m51/51\u001b[0m \u001b[32m━━━━━━━━━━━━━━━━━━━━\u001b[0m\u001b[37m\u001b[0m \u001b[1m4s\u001b[0m 67ms/step - accuracy: 0.9959 - loss: 0.0138 - val_accuracy: 0.5150 - val_loss: 0.8226\n"
          ]
        },
        {
          "output_type": "execute_result",
          "data": {
            "text/plain": [
              "<keras.src.callbacks.history.History at 0x7e56a67a16f0>"
            ]
          },
          "metadata": {},
          "execution_count": 46
        }
      ]
    },
    {
      "cell_type": "code",
      "source": [
        "loss, accuracy = model.evaluate(validation_generator)\n",
        "print(f'Validation Accuracy: {accuracy * 100:.2f}%')"
      ],
      "metadata": {
        "colab": {
          "base_uri": "https://localhost:8080/"
        },
        "id": "MUYgjdXuxIs5",
        "outputId": "8993df15-0810-4687-c50d-7e5bc117b3ef"
      },
      "execution_count": null,
      "outputs": [
        {
          "output_type": "stream",
          "name": "stdout",
          "text": [
            "\u001b[1m13/13\u001b[0m \u001b[32m━━━━━━━━━━━━━━━━━━━━\u001b[0m\u001b[37m\u001b[0m \u001b[1m1s\u001b[0m 56ms/step - accuracy: 0.5254 - loss: 0.8180\n",
            "Validation Accuracy: 51.50%\n"
          ]
        }
      ]
    },
    {
      "cell_type": "code",
      "source": [
        "model.save('my_model.keras')"
      ],
      "metadata": {
        "id": "71IlRikJBl27"
      },
      "execution_count": null,
      "outputs": []
    },
    {
      "cell_type": "markdown",
      "source": [
        "# Тестирование"
      ],
      "metadata": {
        "id": "GdLP8hxVG_HP"
      }
    },
    {
      "cell_type": "code",
      "source": [
        "from tensorflow.keras.preprocessing import image"
      ],
      "metadata": {
        "id": "gMwpYZ_xG1Bq"
      },
      "execution_count": null,
      "outputs": []
    },
    {
      "cell_type": "code",
      "source": [
        "img_path = '/content/ex22.png'  # Замените на фактический путь к изображению\n",
        "\n",
        "# Загружаем изображение и изменяем его размер\n",
        "img = image.load_img(img_path, target_size=(150, 150))\n",
        "\n",
        "# Преобразуем изображение в массив\n",
        "img_array = image.img_to_array(img)\n",
        "\n",
        "# Добавляем дополнительное измерение (для батча)\n",
        "img_array = np.expand_dims(img_array, axis=0)\n",
        "\n",
        "# Нормализуем изображение\n",
        "img_array /= 255.0  # Если вы использовали rescale=1./255 при обучении"
      ],
      "metadata": {
        "id": "QVFF4a2vAC7W"
      },
      "execution_count": null,
      "outputs": []
    },
    {
      "cell_type": "code",
      "source": [
        "# Получаем предсказание\n",
        "predictions = model.predict(img_array)\n",
        "\n",
        "# Преобразуем вероятности в класс\n",
        "predicted_class = (predictions > 0.8).astype(\"int32\")  # Для бинарной классификации\n",
        "\n",
        "# Выводим результат\n",
        "print(f'Предсказанный класс: {predicted_class[0][0]}')"
      ],
      "metadata": {
        "colab": {
          "base_uri": "https://localhost:8080/"
        },
        "id": "mzqo3aQ2AE2D",
        "outputId": "c8b8a203-b786-4142-d251-d61ef9263b3f"
      },
      "execution_count": null,
      "outputs": [
        {
          "output_type": "stream",
          "name": "stdout",
          "text": [
            "\u001b[1m1/1\u001b[0m \u001b[32m━━━━━━━━━━━━━━━━━━━━\u001b[0m\u001b[37m\u001b[0m \u001b[1m0s\u001b[0m 18ms/step\n",
            "Предсказанный класс: 0\n"
          ]
        }
      ]
    }
  ]
}